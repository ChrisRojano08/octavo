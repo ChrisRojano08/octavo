{
 "cells": [
  {
   "cell_type": "markdown",
   "id": "72de62df",
   "metadata": {},
   "source": [
    "# Importación de librerías"
   ]
  },
  {
   "cell_type": "code",
   "execution_count": 22,
   "id": "c68c8422",
   "metadata": {},
   "outputs": [],
   "source": [
    "import os\n",
    "import pandas as pd\n",
    "from collections import defaultdict\n",
    "import sys\n",
    "from operator import itemgetter\n"
   ]
  },
  {
   "cell_type": "markdown",
   "id": "1d6f48ae",
   "metadata": {},
   "source": [
    "## Preparación e importación de archivos"
   ]
  },
  {
   "cell_type": "code",
   "execution_count": 23,
   "id": "87ee1ab7",
   "metadata": {},
   "outputs": [],
   "source": [
    "data_folder = os.path.join(os.path.dirname(sys.path[0]), \"affinity\",\"ml-100k\")\n",
    "ratings_filename = os.path.join(data_folder, \"u.data\")\n",
    "all_ratings = pd.read_csv(ratings_filename, delimiter=\"\\t\", header=None, names = [\"UserID\", \"MovieID\", \"Rating\", \"Datetime\"])"
   ]
  },
  {
   "cell_type": "code",
   "execution_count": 24,
   "id": "847f1d69",
   "metadata": {},
   "outputs": [],
   "source": [
    "movie_name_filename = os.path.join(data_folder, \"u.item\")\n",
    "movie_name_data = pd.read_csv(movie_name_filename, delimiter=\"|\", header=None, encoding = \"mac-roman\")\n",
    "movie_name_data.columns = [\"MovieID\", \"Title\", \"Release Date\",\n",
    " \"Video Release\", \"IMDB\", \"<UNK>\", \"Action\", \"Adventure\",\n",
    " \"Animation\", \"Children's\", \"Comedy\", \"Crime\", \"Documentary\",\n",
    " \"Drama\", \"Fantasy\", \"Film-Noir\",\n",
    " \"Horror\", \"Musical\", \"Mystery\", \"Romance\", \"Sci-Fi\", \"Thriller\",\n",
    " \"War\", \"Western\"]"
   ]
  },
  {
   "cell_type": "markdown",
   "id": "063cd179",
   "metadata": {},
   "source": [
    "# Validando datos"
   ]
  },
  {
   "cell_type": "code",
   "execution_count": 25,
   "id": "45a00cea",
   "metadata": {},
   "outputs": [
    {
     "name": "stdout",
     "output_type": "stream",
     "text": [
      "   UserID  MovieID  Rating            Datetime  Favorable\n",
      "0     196      242       3 1997-12-04 15:55:49      False\n",
      "1     186      302       3 1998-04-04 19:22:22      False\n",
      "2      22      377       1 1997-11-07 07:18:36      False\n",
      "3     244       51       2 1997-11-27 05:02:03      False\n",
      "4     166      346       1 1998-02-02 05:33:16      False\n"
     ]
    }
   ],
   "source": [
    "all_ratings[\"Datetime\"] = pd.to_datetime(all_ratings['Datetime'], unit='s')\n",
    "all_ratings[\"Favorable\"] = all_ratings[\"Rating\"] > 3\n",
    "ratings = all_ratings[all_ratings['UserID'].isin(range(200))]\n",
    "\n",
    "print(all_ratings[:5])"
   ]
  },
  {
   "cell_type": "markdown",
   "id": "414e2def",
   "metadata": {},
   "source": [
    "## Algoritmo a priori"
   ]
  },
  {
   "cell_type": "code",
   "execution_count": 26,
   "id": "5e6532e7",
   "metadata": {},
   "outputs": [
    {
     "name": "stdout",
     "output_type": "stream",
     "text": [
      "         Favorable\n",
      "MovieID           \n",
      "50             100\n",
      "100             89\n",
      "258             83\n",
      "181             79\n",
      "174             74\n"
     ]
    }
   ],
   "source": [
    "favorable_ratings = ratings[ratings[\"Favorable\"]]\n",
    "favorable_reviews_by_users = dict((k, frozenset(v.values)) for k, v in favorable_ratings.groupby(\"UserID\")[\"MovieID\"])\n",
    "num_favorable_by_movie = ratings[[\"MovieID\", \"Favorable\"]].groupby(\"MovieID\").sum()\n",
    "\n",
    "print(num_favorable_by_movie.sort_values(\"Favorable\", ascending=False)[:5])"
   ]
  },
  {
   "cell_type": "markdown",
   "id": "c4acf3c0",
   "metadata": {},
   "source": [
    "## Creando dataset inicial"
   ]
  },
  {
   "cell_type": "code",
   "execution_count": 27,
   "id": "8f5dbfc7",
   "metadata": {},
   "outputs": [],
   "source": [
    "frequent_itemsets = {}\n",
    "min_support = 50\n",
    "frequent_itemsets[1] = dict((frozenset((movie_id,)), row[\"Favorable\"]) for movie_id, row in num_favorable_by_movie.iterrows() if row[\"Favorable\"] > min_support)"
   ]
  },
  {
   "cell_type": "code",
   "execution_count": 28,
   "id": "a6591ecd",
   "metadata": {},
   "outputs": [],
   "source": [
    "##Función para crear candidatos y evaluarlos"
   ]
  },
  {
   "cell_type": "code",
   "execution_count": 29,
   "id": "5460300d",
   "metadata": {},
   "outputs": [],
   "source": [
    "def find_frequent_itemsets(favorable_reviews_by_users, k_1_itemsets, min_support):\n",
    "    counts = defaultdict(int)\n",
    "    for user, reviews in favorable_reviews_by_users.items():\n",
    "        for itemset in k_1_itemsets:\n",
    "            if itemset.issubset(reviews):\n",
    "                for other_reviewed_movie in reviews - itemset:\n",
    "                    current_superset = itemset | frozenset((other_reviewed_movie,))\n",
    "                    counts[current_superset] += 1\n",
    "    return dict([(itemset, frequency) for itemset, frequency in counts.items() if frequency >= min_support])"
   ]
  },
  {
   "cell_type": "markdown",
   "id": "753a045d",
   "metadata": {},
   "source": [
    "## Probando función"
   ]
  },
  {
   "cell_type": "code",
   "execution_count": 30,
   "id": "22449324",
   "metadata": {},
   "outputs": [
    {
     "name": "stdout",
     "output_type": "stream",
     "text": [
      "I found 93 frequent itemsets of length 2\n",
      "I found 295 frequent itemsets of length 3\n",
      "I found 593 frequent itemsets of length 4\n",
      "I found 785 frequent itemsets of length 5\n",
      "I found 677 frequent itemsets of length 6\n",
      "I found 373 frequent itemsets of length 7\n",
      "I found 126 frequent itemsets of length 8\n",
      "I found 24 frequent itemsets of length 9\n",
      "I found 2 frequent itemsets of length 10\n",
      "Did not find any frequent itemsets of length 11\n"
     ]
    }
   ],
   "source": [
    "for k in range(2, 20):\n",
    "    cur_frequent_itemsets = find_frequent_itemsets(favorable_reviews_by_users, frequent_itemsets[k-1], min_support)\n",
    "    \n",
    "    if len(cur_frequent_itemsets) == 0:\n",
    "        print(\"Did not find any frequent itemsets of length {}\".format(k))\n",
    "        sys.stdout.flush()\n",
    "        break\n",
    "    else:\n",
    "        frequent_itemsets[k] = cur_frequent_itemsets\n",
    "        print(\"I found {} frequent itemsets of length {}\".format(len(cur_frequent_itemsets), k))\n",
    "\n",
    "        sys.stdout.flush()\n",
    "#Borrando primer elemento con itemsets no utiles\n",
    "del frequent_itemsets[1]"
   ]
  },
  {
   "cell_type": "markdown",
   "id": "ae6dced9",
   "metadata": {},
   "source": [
    "## Extrayendo reglas de asociación"
   ]
  },
  {
   "cell_type": "code",
   "execution_count": 31,
   "id": "7bbede8b",
   "metadata": {},
   "outputs": [
    {
     "name": "stdout",
     "output_type": "stream",
     "text": [
      "[(frozenset({7}), 1), (frozenset({1}), 7), (frozenset({50}), 1), (frozenset({1}), 50), (frozenset({1}), 56)]\n"
     ]
    }
   ],
   "source": [
    "candidate_rules = []\n",
    "for itemset_length, itemset_counts in frequent_itemsets.items():\n",
    "    for itemset in itemset_counts.keys():\n",
    "        for conclusion in itemset:\n",
    "            premise = itemset - set((conclusion,))\n",
    "            candidate_rules.append((premise, conclusion))\n",
    "\n",
    "print(candidate_rules[:5])"
   ]
  },
  {
   "cell_type": "markdown",
   "id": "a7908386",
   "metadata": {},
   "source": [
    "## Creando reglas"
   ]
  },
  {
   "cell_type": "code",
   "execution_count": 32,
   "id": "a1f841c1",
   "metadata": {},
   "outputs": [],
   "source": [
    "correct_counts = defaultdict(int)\n",
    "incorrect_counts = defaultdict(int)\n",
    "\n",
    "for user, reviews in favorable_reviews_by_users.items():\n",
    "    for candidate_rule in candidate_rules:\n",
    "        premise, conclusion = candidate_rule\n",
    "\n",
    "        if premise.issubset(reviews):\n",
    "            if conclusion in reviews:\n",
    "                correct_counts[candidate_rule] += 1\n",
    "            else:\n",
    "                incorrect_counts[candidate_rule] += 1\n",
    "rule_confidence = {candidate_rule: correct_counts[candidate_rule] / float(correct_counts[candidate_rule] + incorrect_counts[candidate_rule]) for candidate_rule in candidate_rules}\n"
   ]
  },
  {
   "cell_type": "markdown",
   "id": "8930c76e",
   "metadata": {},
   "source": [
    "## Función para obtener nombre de la pelicula"
   ]
  },
  {
   "cell_type": "code",
   "execution_count": 33,
   "id": "fea62151",
   "metadata": {},
   "outputs": [],
   "source": [
    "def get_movie_name(movie_id):\n",
    "    title_object = movie_name_data[movie_name_data[\"MovieID\"] == movie_id][\"Title\"]\n",
    "    title = title_object.values[0]\n",
    "    return title"
   ]
  },
  {
   "cell_type": "markdown",
   "id": "0d69ef17",
   "metadata": {},
   "source": [
    "## Mostrando reglas"
   ]
  },
  {
   "cell_type": "code",
   "execution_count": 34,
   "id": "0794c83d",
   "metadata": {},
   "outputs": [
    {
     "name": "stdout",
     "output_type": "stream",
     "text": [
      "Rule #1\n",
      "Rule: If a person recommends Silence of the Lambs, The (1991), Return of the Jedi (1983) they will also recommend Star Wars (1977)\n",
      " - Confidence: 1.000\n",
      "\n",
      "Rule #2\n",
      "Rule: If a person recommends Empire Strikes Back, The (1980), Fugitive, The (1993) they will also recommend Raiders of the Lost Ark (1981)\n",
      " - Confidence: 1.000\n",
      "\n",
      "Rule #3\n",
      "Rule: If a person recommends Contact (1997), Empire Strikes Back, The (1980) they will also recommend Raiders of the Lost Ark (1981)\n",
      " - Confidence: 1.000\n",
      "\n",
      "Rule #4\n",
      "Rule: If a person recommends Toy Story (1995), Return of the Jedi (1983), Twelve Monkeys (1995) they will also recommend Star Wars (1977)\n",
      " - Confidence: 1.000\n",
      "\n",
      "Rule #5\n",
      "Rule: If a person recommends Toy Story (1995), Empire Strikes Back, The (1980), Twelve Monkeys (1995) they will also recommend Raiders of the Lost Ark (1981)\n",
      " - Confidence: 1.000\n",
      "\n"
     ]
    }
   ],
   "source": [
    "sorted_confidence = sorted(rule_confidence.items(), key=itemgetter(1), reverse=True)\n",
    "for index in range(5):\n",
    "    print(\"Rule #{0}\".format(index + 1))\n",
    "    (premise, conclusion) = sorted_confidence[index][0]\n",
    "    premise_names = \", \".join(get_movie_name(idx) for idx in premise)\n",
    "    conclusion_name = get_movie_name(conclusion)\n",
    "    print(\"Rule: If a person recommends {0} they will also recommend {1}\".format(premise_names, conclusion_name))\n",
    "    print(\" - Confidence: {0:.3f}\".format(rule_confidence[(premise, conclusion)]))\n",
    "    print(\"\")"
   ]
  },
  {
   "cell_type": "markdown",
   "id": "04f3b5ff",
   "metadata": {},
   "source": [
    "## Evaluación"
   ]
  },
  {
   "cell_type": "code",
   "execution_count": 35,
   "id": "4ddf8d10",
   "metadata": {},
   "outputs": [
    {
     "name": "stdout",
     "output_type": "stream",
     "text": [
      "Rule #1\n",
      "Rule: If a person recommends Silence of the Lambs, The (1991), Return of the Jedi (1983) they will also recommend Star Wars (1977)\n",
      " - Train Confidence: 1.000\n",
      " - Test Confidence: 0.936\n",
      "\n",
      "Rule #2\n",
      "Rule: If a person recommends Empire Strikes Back, The (1980), Fugitive, The (1993) they will also recommend Raiders of the Lost Ark (1981)\n",
      " - Train Confidence: 1.000\n",
      " - Test Confidence: 0.876\n",
      "\n",
      "Rule #3\n",
      "Rule: If a person recommends Contact (1997), Empire Strikes Back, The (1980) they will also recommend Raiders of the Lost Ark (1981)\n",
      " - Train Confidence: 1.000\n",
      " - Test Confidence: 0.841\n",
      "\n",
      "Rule #4\n",
      "Rule: If a person recommends Toy Story (1995), Return of the Jedi (1983), Twelve Monkeys (1995) they will also recommend Star Wars (1977)\n",
      " - Train Confidence: 1.000\n",
      " - Test Confidence: 0.932\n",
      "\n",
      "Rule #5\n",
      "Rule: If a person recommends Toy Story (1995), Empire Strikes Back, The (1980), Twelve Monkeys (1995) they will also recommend Raiders of the Lost Ark (1981)\n",
      " - Train Confidence: 1.000\n",
      " - Test Confidence: 0.903\n",
      "\n"
     ]
    }
   ],
   "source": [
    "test_dataset = all_ratings[~all_ratings['UserID'].isin(range(200))]\n",
    "test_favorable = test_dataset[test_dataset[\"Favorable\"]]\n",
    "test_favorable_by_users = dict((k, frozenset(v.values)) for k, v in test_favorable.groupby(\"UserID\")[\"MovieID\"])\n",
    "\n",
    "correct_counts = defaultdict(int)\n",
    "incorrect_counts = defaultdict(int)\n",
    "for user, reviews in test_favorable_by_users.items():\n",
    "    for candidate_rule in candidate_rules:\n",
    "        premise, conclusion = candidate_rule\n",
    "        if premise.issubset(reviews):\n",
    "            if conclusion in reviews:\n",
    "                correct_counts[candidate_rule] += 1\n",
    "            else:\n",
    "                incorrect_counts[candidate_rule] += 1\n",
    "test_confidence = {candidate_rule: correct_counts[candidate_rule] / float(correct_counts[candidate_rule] + incorrect_counts [candidate_rule]) for candidate_rule in rule_confidence}\n",
    "\n",
    "\n",
    "for index in range(5):\n",
    "    print(\"Rule #{0}\".format(index + 1))\n",
    "    (premise, conclusion) = sorted_confidence[index][0]\n",
    "    premise_names = \", \".join(get_movie_name(idx) for idx in premise)\n",
    "    conclusion_name = get_movie_name(conclusion)\n",
    "    print(\"Rule: If a person recommends {0} they will also recommend {1}\".format(premise_names, conclusion_name))\n",
    "    print(\" - Train Confidence: {0:.3f}\".format(rule_confidence.get((premise, conclusion), -1)))\n",
    "    print(\" - Test Confidence: {0:.3f}\".format(test_confidence.get((premise, conclusion), -1)))\n",
    "    print(\"\")\n",
    "\n"
   ]
  },
  {
   "cell_type": "code",
   "execution_count": 37,
   "id": "fa288187",
   "metadata": {},
   "outputs": [
    {
     "name": "stderr",
     "output_type": "stream",
     "text": [
      "C:\\Users\\chris\\AppData\\Local\\Temp\\ipykernel_17796\\1459745252.py:22: FutureWarning: save is not part of the public API, usage can give unexpected results and will be removed in a future version\n",
      "  result.save()\n"
     ]
    }
   ],
   "source": [
    "strRule = []\n",
    "for index in range(len(sorted_confidence)):\n",
    "    stxAx = \"\"\n",
    "    subX=[\"\",\"\",\"\"]\n",
    "\n",
    "    (premise, conclusion) = sorted_confidence[index][0]\n",
    "    premise_names = \", \".join(get_movie_name(idx) for idx in premise)\n",
    "    conclusion_name = get_movie_name(conclusion)\n",
    "    stxAx += \"If a person recommends {0} they will also recommend {1}\".format(premise_names, conclusion_name)\n",
    "\n",
    "    subX[0] = stxAx\n",
    "    subX[1] = \" {0:.3f}\".format(rule_confidence.get((premise, conclusion), -1))\n",
    "    subX[2] = \" {0:.3f}\".format(test_confidence.get((premise, conclusion), -1))\n",
    "\n",
    "    strRule.append(subX)\n",
    "\n",
    "\n",
    "d2 = pd.DataFrame(strRule)\n",
    "d2.columns = ['Reglas','Train','Test']\n",
    "result = pd.ExcelWriter('output.xlsx')\n",
    "d2.to_excel(result,'Errors')\n",
    "result.save()"
   ]
  }
 ],
 "metadata": {
  "kernelspec": {
   "display_name": "Python 3 (ipykernel)",
   "language": "python",
   "name": "python3"
  },
  "language_info": {
   "codemirror_mode": {
    "name": "ipython",
    "version": 3
   },
   "file_extension": ".py",
   "mimetype": "text/x-python",
   "name": "python",
   "nbconvert_exporter": "python",
   "pygments_lexer": "ipython3",
   "version": "3.10.2"
  }
 },
 "nbformat": 4,
 "nbformat_minor": 5
}
