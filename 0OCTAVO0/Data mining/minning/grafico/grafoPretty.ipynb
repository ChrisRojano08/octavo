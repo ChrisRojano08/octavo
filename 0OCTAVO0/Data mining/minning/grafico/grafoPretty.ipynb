{
 "cells": [
  {
   "cell_type": "code",
   "execution_count": 7,
   "id": "e2fd68cd",
   "metadata": {
    "collapsed": true
   },
   "outputs": [
    {
     "name": "stdout",
     "output_type": "stream",
     "text": [
      "Requirement already satisfied: numpy in f:\\programas\\anaconda\\lib\\site-packages (1.21.5)\n",
      "Note: you may need to restart the kernel to use updated packages.\n"
     ]
    },
    {
     "name": "stderr",
     "output_type": "stream",
     "text": [
      "\n",
      "[notice] A new release of pip available: 22.3 -> 23.1.2\n",
      "[notice] To update, run: python.exe -m pip install --upgrade pip\n"
     ]
    }
   ],
   "source": [
    "pip install numpy"
   ]
  },
  {
   "cell_type": "code",
   "execution_count": 8,
   "id": "99a72f1d",
   "metadata": {
    "collapsed": true
   },
   "outputs": [
    {
     "name": "stdout",
     "output_type": "stream",
     "text": [
      "Note: you may need to restart the kernel to use updated packages.\n"
     ]
    },
    {
     "name": "stderr",
     "output_type": "stream",
     "text": [
      "ERROR: Could not find a version that satisfies the requirement plt (from versions: none)\n",
      "ERROR: No matching distribution found for plt\n",
      "\n",
      "[notice] A new release of pip available: 22.3 -> 23.1.2\n",
      "[notice] To update, run: python.exe -m pip install --upgrade pip\n"
     ]
    }
   ],
   "source": [
    "pip install plt"
   ]
  },
  {
   "cell_type": "code",
   "execution_count": 35,
   "id": "b8218dd7",
   "metadata": {
    "collapsed": true
   },
   "outputs": [
    {
     "name": "stdout",
     "output_type": "stream",
     "text": [
      "Defaulting to user installation because normal site-packages is not writeable\n",
      "Requirement already satisfied: ipywidgets in f:\\programas\\anaconda\\lib\\site-packages (7.6.5)\n",
      "Requirement already satisfied: widgetsnbextension~=3.5.0 in f:\\programas\\anaconda\\lib\\site-packages (from ipywidgets) (3.5.2)\n",
      "Requirement already satisfied: ipykernel>=4.5.1 in f:\\programas\\anaconda\\lib\\site-packages (from ipywidgets) (6.9.1)\n",
      "Requirement already satisfied: jupyterlab-widgets>=1.0.0 in f:\\programas\\anaconda\\lib\\site-packages (from ipywidgets) (1.0.0)\n",
      "Requirement already satisfied: traitlets>=4.3.1 in f:\\programas\\anaconda\\lib\\site-packages (from ipywidgets) (5.1.1)\n",
      "Requirement already satisfied: ipython>=4.0.0 in f:\\programas\\anaconda\\lib\\site-packages (from ipywidgets) (8.2.0)\n",
      "Requirement already satisfied: nbformat>=4.2.0 in f:\\programas\\anaconda\\lib\\site-packages (from ipywidgets) (5.3.0)\n",
      "Requirement already satisfied: ipython-genutils~=0.2.0 in f:\\programas\\anaconda\\lib\\site-packages (from ipywidgets) (0.2.0)\n",
      "Requirement already satisfied: matplotlib-inline<0.2.0,>=0.1.0 in f:\\programas\\anaconda\\lib\\site-packages (from ipykernel>=4.5.1->ipywidgets) (0.1.2)\n",
      "Requirement already satisfied: nest-asyncio in f:\\programas\\anaconda\\lib\\site-packages (from ipykernel>=4.5.1->ipywidgets) (1.5.5)\n",
      "Requirement already satisfied: debugpy<2.0,>=1.0.0 in f:\\programas\\anaconda\\lib\\site-packages (from ipykernel>=4.5.1->ipywidgets) (1.5.1)\n",
      "Requirement already satisfied: tornado<7.0,>=4.2 in f:\\programas\\anaconda\\lib\\site-packages (from ipykernel>=4.5.1->ipywidgets) (6.1)\n",
      "Requirement already satisfied: jupyter-client<8.0 in f:\\programas\\anaconda\\lib\\site-packages (from ipykernel>=4.5.1->ipywidgets) (6.1.12)\n",
      "Requirement already satisfied: jedi>=0.16 in f:\\programas\\anaconda\\lib\\site-packages (from ipython>=4.0.0->ipywidgets) (0.18.1)\n",
      "Requirement already satisfied: setuptools>=18.5 in c:\\users\\chris\\appdata\\roaming\\python\\python39\\site-packages (from ipython>=4.0.0->ipywidgets) (65.5.0)\n",
      "Requirement already satisfied: prompt-toolkit!=3.0.0,!=3.0.1,<3.1.0,>=2.0.0 in f:\\programas\\anaconda\\lib\\site-packages (from ipython>=4.0.0->ipywidgets) (3.0.20)\n",
      "Requirement already satisfied: decorator in f:\\programas\\anaconda\\lib\\site-packages (from ipython>=4.0.0->ipywidgets) (5.1.1)\n",
      "Requirement already satisfied: backcall in f:\\programas\\anaconda\\lib\\site-packages (from ipython>=4.0.0->ipywidgets) (0.2.0)\n",
      "Requirement already satisfied: stack-data in f:\\programas\\anaconda\\lib\\site-packages (from ipython>=4.0.0->ipywidgets) (0.2.0)\n",
      "Requirement already satisfied: colorama in f:\\programas\\anaconda\\lib\\site-packages (from ipython>=4.0.0->ipywidgets) (0.4.4)\n",
      "Requirement already satisfied: pickleshare in f:\\programas\\anaconda\\lib\\site-packages (from ipython>=4.0.0->ipywidgets) (0.7.5)\n",
      "Requirement already satisfied: pygments>=2.4.0 in f:\\programas\\anaconda\\lib\\site-packages (from ipython>=4.0.0->ipywidgets) (2.11.2)\n",
      "Requirement already satisfied: fastjsonschema in f:\\programas\\anaconda\\lib\\site-packages (from nbformat>=4.2.0->ipywidgets) (2.15.1)\n",
      "Requirement already satisfied: jsonschema>=2.6 in f:\\programas\\anaconda\\lib\\site-packages (from nbformat>=4.2.0->ipywidgets) (4.4.0)\n",
      "Requirement already satisfied: jupyter-core in f:\\programas\\anaconda\\lib\\site-packages (from nbformat>=4.2.0->ipywidgets) (4.9.2)\n",
      "Requirement already satisfied: notebook>=4.4.1 in f:\\programas\\anaconda\\lib\\site-packages (from widgetsnbextension~=3.5.0->ipywidgets) (6.4.8)\n",
      "Requirement already satisfied: parso<0.9.0,>=0.8.0 in f:\\programas\\anaconda\\lib\\site-packages (from jedi>=0.16->ipython>=4.0.0->ipywidgets) (0.8.3)\n",
      "Requirement already satisfied: attrs>=17.4.0 in f:\\programas\\anaconda\\lib\\site-packages (from jsonschema>=2.6->nbformat>=4.2.0->ipywidgets) (21.4.0)\n",
      "Requirement already satisfied: pyrsistent!=0.17.0,!=0.17.1,!=0.17.2,>=0.14.0 in f:\\programas\\anaconda\\lib\\site-packages (from jsonschema>=2.6->nbformat>=4.2.0->ipywidgets) (0.18.0)\n",
      "Requirement already satisfied: pyzmq>=13 in f:\\programas\\anaconda\\lib\\site-packages (from jupyter-client<8.0->ipykernel>=4.5.1->ipywidgets) (22.3.0)\n",
      "Requirement already satisfied: python-dateutil>=2.1 in f:\\programas\\anaconda\\lib\\site-packages (from jupyter-client<8.0->ipykernel>=4.5.1->ipywidgets) (2.8.2)\n",
      "Requirement already satisfied: pywin32>=1.0 in f:\\programas\\anaconda\\lib\\site-packages (from jupyter-core->nbformat>=4.2.0->ipywidgets) (302)\n",
      "Requirement already satisfied: nbconvert in f:\\programas\\anaconda\\lib\\site-packages (from notebook>=4.4.1->widgetsnbextension~=3.5.0->ipywidgets) (6.4.4)\n",
      "Requirement already satisfied: terminado>=0.8.3 in f:\\programas\\anaconda\\lib\\site-packages (from notebook>=4.4.1->widgetsnbextension~=3.5.0->ipywidgets) (0.13.1)\n",
      "Requirement already satisfied: prometheus-client in f:\\programas\\anaconda\\lib\\site-packages (from notebook>=4.4.1->widgetsnbextension~=3.5.0->ipywidgets) (0.13.1)\n",
      "Requirement already satisfied: Send2Trash>=1.8.0 in f:\\programas\\anaconda\\lib\\site-packages (from notebook>=4.4.1->widgetsnbextension~=3.5.0->ipywidgets) (1.8.0)\n",
      "Requirement already satisfied: jinja2 in f:\\programas\\anaconda\\lib\\site-packages (from notebook>=4.4.1->widgetsnbextension~=3.5.0->ipywidgets) (2.11.3)\n",
      "Requirement already satisfied: argon2-cffi in f:\\programas\\anaconda\\lib\\site-packages (from notebook>=4.4.1->widgetsnbextension~=3.5.0->ipywidgets) (21.3.0)\n",
      "Requirement already satisfied: wcwidth in f:\\programas\\anaconda\\lib\\site-packages (from prompt-toolkit!=3.0.0,!=3.0.1,<3.1.0,>=2.0.0->ipython>=4.0.0->ipywidgets) (0.2.5)\n",
      "Requirement already satisfied: asttokens in f:\\programas\\anaconda\\lib\\site-packages (from stack-data->ipython>=4.0.0->ipywidgets) (2.0.5)\n",
      "Requirement already satisfied: pure-eval in f:\\programas\\anaconda\\lib\\site-packages (from stack-data->ipython>=4.0.0->ipywidgets) (0.2.2)\n",
      "Requirement already satisfied: executing in f:\\programas\\anaconda\\lib\\site-packages (from stack-data->ipython>=4.0.0->ipywidgets) (0.8.3)\n",
      "Requirement already satisfied: six>=1.5 in f:\\programas\\anaconda\\lib\\site-packages (from python-dateutil>=2.1->jupyter-client<8.0->ipykernel>=4.5.1->ipywidgets) (1.16.0)\n",
      "Requirement already satisfied: pywinpty>=1.1.0 in f:\\programas\\anaconda\\lib\\site-packages (from terminado>=0.8.3->notebook>=4.4.1->widgetsnbextension~=3.5.0->ipywidgets) (2.0.2)\n",
      "Requirement already satisfied: argon2-cffi-bindings in f:\\programas\\anaconda\\lib\\site-packages (from argon2-cffi->notebook>=4.4.1->widgetsnbextension~=3.5.0->ipywidgets) (21.2.0)\n",
      "Requirement already satisfied: MarkupSafe>=0.23 in f:\\programas\\anaconda\\lib\\site-packages (from jinja2->notebook>=4.4.1->widgetsnbextension~=3.5.0->ipywidgets) (2.0.1)\n",
      "Requirement already satisfied: beautifulsoup4 in f:\\programas\\anaconda\\lib\\site-packages (from nbconvert->notebook>=4.4.1->widgetsnbextension~=3.5.0->ipywidgets) (4.11.1)\n",
      "Requirement already satisfied: nbclient<0.6.0,>=0.5.0 in f:\\programas\\anaconda\\lib\\site-packages (from nbconvert->notebook>=4.4.1->widgetsnbextension~=3.5.0->ipywidgets) (0.5.13)\n",
      "Requirement already satisfied: entrypoints>=0.2.2 in f:\\programas\\anaconda\\lib\\site-packages (from nbconvert->notebook>=4.4.1->widgetsnbextension~=3.5.0->ipywidgets) (0.4)\n",
      "Requirement already satisfied: jupyterlab-pygments in f:\\programas\\anaconda\\lib\\site-packages (from nbconvert->notebook>=4.4.1->widgetsnbextension~=3.5.0->ipywidgets) (0.1.2)\n",
      "Requirement already satisfied: testpath in f:\\programas\\anaconda\\lib\\site-packages (from nbconvert->notebook>=4.4.1->widgetsnbextension~=3.5.0->ipywidgets) (0.5.0)\n",
      "Requirement already satisfied: defusedxml in f:\\programas\\anaconda\\lib\\site-packages (from nbconvert->notebook>=4.4.1->widgetsnbextension~=3.5.0->ipywidgets) (0.7.1)\n",
      "Requirement already satisfied: pandocfilters>=1.4.1 in f:\\programas\\anaconda\\lib\\site-packages (from nbconvert->notebook>=4.4.1->widgetsnbextension~=3.5.0->ipywidgets) (1.5.0)\n",
      "Requirement already satisfied: mistune<2,>=0.8.1 in f:\\programas\\anaconda\\lib\\site-packages (from nbconvert->notebook>=4.4.1->widgetsnbextension~=3.5.0->ipywidgets) (0.8.4)\n",
      "Requirement already satisfied: bleach in f:\\programas\\anaconda\\lib\\site-packages (from nbconvert->notebook>=4.4.1->widgetsnbextension~=3.5.0->ipywidgets) (4.1.0)\n",
      "Requirement already satisfied: cffi>=1.0.1 in f:\\programas\\anaconda\\lib\\site-packages (from argon2-cffi-bindings->argon2-cffi->notebook>=4.4.1->widgetsnbextension~=3.5.0->ipywidgets) (1.15.0)\n",
      "Requirement already satisfied: soupsieve>1.2 in f:\\programas\\anaconda\\lib\\site-packages (from beautifulsoup4->nbconvert->notebook>=4.4.1->widgetsnbextension~=3.5.0->ipywidgets) (2.3.1)\n",
      "Requirement already satisfied: webencodings in f:\\programas\\anaconda\\lib\\site-packages (from bleach->nbconvert->notebook>=4.4.1->widgetsnbextension~=3.5.0->ipywidgets) (0.5.1)\n",
      "Requirement already satisfied: packaging in f:\\programas\\anaconda\\lib\\site-packages (from bleach->nbconvert->notebook>=4.4.1->widgetsnbextension~=3.5.0->ipywidgets) (21.3)\n",
      "Requirement already satisfied: pycparser in f:\\programas\\anaconda\\lib\\site-packages (from cffi>=1.0.1->argon2-cffi-bindings->argon2-cffi->notebook>=4.4.1->widgetsnbextension~=3.5.0->ipywidgets) (2.21)\n",
      "Requirement already satisfied: pyparsing!=3.0.5,>=2.0.2 in f:\\programas\\anaconda\\lib\\site-packages (from packaging->bleach->nbconvert->notebook>=4.4.1->widgetsnbextension~=3.5.0->ipywidgets) (3.0.4)\n",
      "Note: you may need to restart the kernel to use updated packages.\n"
     ]
    },
    {
     "name": "stderr",
     "output_type": "stream",
     "text": [
      "\n",
      "[notice] A new release of pip available: 22.3 -> 23.1.2\n",
      "[notice] To update, run: python.exe -m pip install --upgrade pip\n"
     ]
    }
   ],
   "source": [
    "pip install ipywidgets"
   ]
  },
  {
   "cell_type": "code",
   "execution_count": 36,
   "id": "2a432832",
   "metadata": {
    "collapsed": true
   },
   "outputs": [
    {
     "name": "stdout",
     "output_type": "stream",
     "text": [
      "Requirement already satisfied: ipympl in c:\\users\\chris\\appdata\\roaming\\python\\python39\\site-packages (0.9.3)\n",
      "Requirement already satisfied: ipython<9 in f:\\programas\\anaconda\\lib\\site-packages (from ipympl) (8.2.0)\n",
      "Requirement already satisfied: matplotlib<4,>=3.4.0 in f:\\programas\\anaconda\\lib\\site-packages (from ipympl) (3.5.1)\n",
      "Requirement already satisfied: traitlets<6 in f:\\programas\\anaconda\\lib\\site-packages (from ipympl) (5.1.1)\n",
      "Requirement already satisfied: ipywidgets<9,>=7.6.0 in f:\\programas\\anaconda\\lib\\site-packages (from ipympl) (7.6.5)\n",
      "Requirement already satisfied: pillow in f:\\programas\\anaconda\\lib\\site-packages (from ipympl) (9.0.1)\n",
      "Requirement already satisfied: numpy in f:\\programas\\anaconda\\lib\\site-packages (from ipympl) (1.21.5)\n",
      "Requirement already satisfied: ipython-genutils in f:\\programas\\anaconda\\lib\\site-packages (from ipympl) (0.2.0)\n",
      "Requirement already satisfied: matplotlib-inline in f:\\programas\\anaconda\\lib\\site-packages (from ipython<9->ipympl) (0.1.2)\n",
      "Requirement already satisfied: prompt-toolkit!=3.0.0,!=3.0.1,<3.1.0,>=2.0.0 in f:\\programas\\anaconda\\lib\\site-packages (from ipython<9->ipympl) (3.0.20)\n",
      "Requirement already satisfied: backcall in f:\\programas\\anaconda\\lib\\site-packages (from ipython<9->ipympl) (0.2.0)\n",
      "Requirement already satisfied: pickleshare in f:\\programas\\anaconda\\lib\\site-packages (from ipython<9->ipympl) (0.7.5)\n",
      "Requirement already satisfied: stack-data in f:\\programas\\anaconda\\lib\\site-packages (from ipython<9->ipympl) (0.2.0)\n",
      "Requirement already satisfied: colorama in f:\\programas\\anaconda\\lib\\site-packages (from ipython<9->ipympl) (0.4.4)\n",
      "Requirement already satisfied: pygments>=2.4.0 in f:\\programas\\anaconda\\lib\\site-packages (from ipython<9->ipympl) (2.11.2)\n",
      "Requirement already satisfied: jedi>=0.16 in f:\\programas\\anaconda\\lib\\site-packages (from ipython<9->ipympl) (0.18.1)\n",
      "Requirement already satisfied: setuptools>=18.5 in c:\\users\\chris\\appdata\\roaming\\python\\python39\\site-packages (from ipython<9->ipympl) (65.5.0)\n",
      "Requirement already satisfied: decorator in f:\\programas\\anaconda\\lib\\site-packages (from ipython<9->ipympl) (5.1.1)\n",
      "Requirement already satisfied: ipykernel>=4.5.1 in f:\\programas\\anaconda\\lib\\site-packages (from ipywidgets<9,>=7.6.0->ipympl) (6.9.1)\n",
      "Requirement already satisfied: nbformat>=4.2.0 in f:\\programas\\anaconda\\lib\\site-packages (from ipywidgets<9,>=7.6.0->ipympl) (5.3.0)\n",
      "Requirement already satisfied: jupyterlab-widgets>=1.0.0 in f:\\programas\\anaconda\\lib\\site-packages (from ipywidgets<9,>=7.6.0->ipympl) (1.0.0)\n",
      "Requirement already satisfied: widgetsnbextension~=3.5.0 in f:\\programas\\anaconda\\lib\\site-packages (from ipywidgets<9,>=7.6.0->ipympl) (3.5.2)\n",
      "Requirement already satisfied: pyparsing>=2.2.1 in f:\\programas\\anaconda\\lib\\site-packages (from matplotlib<4,>=3.4.0->ipympl) (3.0.4)\n",
      "Requirement already satisfied: python-dateutil>=2.7 in f:\\programas\\anaconda\\lib\\site-packages (from matplotlib<4,>=3.4.0->ipympl) (2.8.2)\n",
      "Requirement already satisfied: kiwisolver>=1.0.1 in f:\\programas\\anaconda\\lib\\site-packages (from matplotlib<4,>=3.4.0->ipympl) (1.3.2)\n",
      "Requirement already satisfied: packaging>=20.0 in f:\\programas\\anaconda\\lib\\site-packages (from matplotlib<4,>=3.4.0->ipympl) (21.3)\n",
      "Requirement already satisfied: fonttools>=4.22.0 in f:\\programas\\anaconda\\lib\\site-packages (from matplotlib<4,>=3.4.0->ipympl) (4.25.0)\n",
      "Requirement already satisfied: cycler>=0.10 in f:\\programas\\anaconda\\lib\\site-packages (from matplotlib<4,>=3.4.0->ipympl) (0.11.0)\n",
      "Requirement already satisfied: jupyter-client<8.0 in f:\\programas\\anaconda\\lib\\site-packages (from ipykernel>=4.5.1->ipywidgets<9,>=7.6.0->ipympl) (6.1.12)\n",
      "Requirement already satisfied: tornado<7.0,>=4.2 in f:\\programas\\anaconda\\lib\\site-packages (from ipykernel>=4.5.1->ipywidgets<9,>=7.6.0->ipympl) (6.1)\n",
      "Requirement already satisfied: debugpy<2.0,>=1.0.0 in f:\\programas\\anaconda\\lib\\site-packages (from ipykernel>=4.5.1->ipywidgets<9,>=7.6.0->ipympl) (1.5.1)\n",
      "Requirement already satisfied: nest-asyncio in f:\\programas\\anaconda\\lib\\site-packages (from ipykernel>=4.5.1->ipywidgets<9,>=7.6.0->ipympl) (1.5.5)\n",
      "Requirement already satisfied: parso<0.9.0,>=0.8.0 in f:\\programas\\anaconda\\lib\\site-packages (from jedi>=0.16->ipython<9->ipympl) (0.8.3)\n",
      "Requirement already satisfied: jsonschema>=2.6 in f:\\programas\\anaconda\\lib\\site-packages (from nbformat>=4.2.0->ipywidgets<9,>=7.6.0->ipympl) (4.4.0)\n",
      "Requirement already satisfied: jupyter-core in f:\\programas\\anaconda\\lib\\site-packages (from nbformat>=4.2.0->ipywidgets<9,>=7.6.0->ipympl) (4.9.2)\n",
      "Requirement already satisfied: fastjsonschema in f:\\programas\\anaconda\\lib\\site-packages (from nbformat>=4.2.0->ipywidgets<9,>=7.6.0->ipympl) (2.15.1)\n",
      "Requirement already satisfied: wcwidth in f:\\programas\\anaconda\\lib\\site-packages (from prompt-toolkit!=3.0.0,!=3.0.1,<3.1.0,>=2.0.0->ipython<9->ipympl) (0.2.5)\n",
      "Requirement already satisfied: six>=1.5 in f:\\programas\\anaconda\\lib\\site-packages (from python-dateutil>=2.7->matplotlib<4,>=3.4.0->ipympl) (1.16.0)\n",
      "Requirement already satisfied: notebook>=4.4.1 in f:\\programas\\anaconda\\lib\\site-packages (from widgetsnbextension~=3.5.0->ipywidgets<9,>=7.6.0->ipympl) (6.4.8)\n",
      "Requirement already satisfied: pure-eval in f:\\programas\\anaconda\\lib\\site-packages (from stack-data->ipython<9->ipympl) (0.2.2)\n",
      "Requirement already satisfied: asttokens in f:\\programas\\anaconda\\lib\\site-packages (from stack-data->ipython<9->ipympl) (2.0.5)\n",
      "Requirement already satisfied: executing in f:\\programas\\anaconda\\lib\\site-packages (from stack-data->ipython<9->ipympl) (0.8.3)\n",
      "Requirement already satisfied: attrs>=17.4.0 in f:\\programas\\anaconda\\lib\\site-packages (from jsonschema>=2.6->nbformat>=4.2.0->ipywidgets<9,>=7.6.0->ipympl) (21.4.0)\n",
      "Requirement already satisfied: pyrsistent!=0.17.0,!=0.17.1,!=0.17.2,>=0.14.0 in f:\\programas\\anaconda\\lib\\site-packages (from jsonschema>=2.6->nbformat>=4.2.0->ipywidgets<9,>=7.6.0->ipympl) (0.18.0)\n",
      "Requirement already satisfied: pyzmq>=13 in f:\\programas\\anaconda\\lib\\site-packages (from jupyter-client<8.0->ipykernel>=4.5.1->ipywidgets<9,>=7.6.0->ipympl) (22.3.0)\n",
      "Requirement already satisfied: pywin32>=1.0 in f:\\programas\\anaconda\\lib\\site-packages (from jupyter-core->nbformat>=4.2.0->ipywidgets<9,>=7.6.0->ipympl) (302)\n",
      "Requirement already satisfied: prometheus-client in f:\\programas\\anaconda\\lib\\site-packages (from notebook>=4.4.1->widgetsnbextension~=3.5.0->ipywidgets<9,>=7.6.0->ipympl) (0.13.1)\n",
      "Requirement already satisfied: terminado>=0.8.3 in f:\\programas\\anaconda\\lib\\site-packages (from notebook>=4.4.1->widgetsnbextension~=3.5.0->ipywidgets<9,>=7.6.0->ipympl) (0.13.1)\n",
      "Requirement already satisfied: nbconvert in f:\\programas\\anaconda\\lib\\site-packages (from notebook>=4.4.1->widgetsnbextension~=3.5.0->ipywidgets<9,>=7.6.0->ipympl) (6.4.4)\n",
      "Requirement already satisfied: argon2-cffi in f:\\programas\\anaconda\\lib\\site-packages (from notebook>=4.4.1->widgetsnbextension~=3.5.0->ipywidgets<9,>=7.6.0->ipympl) (21.3.0)\n",
      "Requirement already satisfied: Send2Trash>=1.8.0 in f:\\programas\\anaconda\\lib\\site-packages (from notebook>=4.4.1->widgetsnbextension~=3.5.0->ipywidgets<9,>=7.6.0->ipympl) (1.8.0)\n",
      "Requirement already satisfied: jinja2 in f:\\programas\\anaconda\\lib\\site-packages (from notebook>=4.4.1->widgetsnbextension~=3.5.0->ipywidgets<9,>=7.6.0->ipympl) (2.11.3)\n",
      "Requirement already satisfied: pywinpty>=1.1.0 in f:\\programas\\anaconda\\lib\\site-packages (from terminado>=0.8.3->notebook>=4.4.1->widgetsnbextension~=3.5.0->ipywidgets<9,>=7.6.0->ipympl) (2.0.2)\n",
      "Requirement already satisfied: argon2-cffi-bindings in f:\\programas\\anaconda\\lib\\site-packages (from argon2-cffi->notebook>=4.4.1->widgetsnbextension~=3.5.0->ipywidgets<9,>=7.6.0->ipympl) (21.2.0)\n",
      "Requirement already satisfied: MarkupSafe>=0.23 in f:\\programas\\anaconda\\lib\\site-packages (from jinja2->notebook>=4.4.1->widgetsnbextension~=3.5.0->ipywidgets<9,>=7.6.0->ipympl) (2.0.1)\n",
      "Requirement already satisfied: bleach in f:\\programas\\anaconda\\lib\\site-packages (from nbconvert->notebook>=4.4.1->widgetsnbextension~=3.5.0->ipywidgets<9,>=7.6.0->ipympl) (4.1.0)\n",
      "Requirement already satisfied: entrypoints>=0.2.2 in f:\\programas\\anaconda\\lib\\site-packages (from nbconvert->notebook>=4.4.1->widgetsnbextension~=3.5.0->ipywidgets<9,>=7.6.0->ipympl) (0.4)\n",
      "Requirement already satisfied: jupyterlab-pygments in f:\\programas\\anaconda\\lib\\site-packages (from nbconvert->notebook>=4.4.1->widgetsnbextension~=3.5.0->ipywidgets<9,>=7.6.0->ipympl) (0.1.2)\n",
      "Requirement already satisfied: testpath in f:\\programas\\anaconda\\lib\\site-packages (from nbconvert->notebook>=4.4.1->widgetsnbextension~=3.5.0->ipywidgets<9,>=7.6.0->ipympl) (0.5.0)\n",
      "Requirement already satisfied: mistune<2,>=0.8.1 in f:\\programas\\anaconda\\lib\\site-packages (from nbconvert->notebook>=4.4.1->widgetsnbextension~=3.5.0->ipywidgets<9,>=7.6.0->ipympl) (0.8.4)\n",
      "Requirement already satisfied: pandocfilters>=1.4.1 in f:\\programas\\anaconda\\lib\\site-packages (from nbconvert->notebook>=4.4.1->widgetsnbextension~=3.5.0->ipywidgets<9,>=7.6.0->ipympl) (1.5.0)\n",
      "Requirement already satisfied: beautifulsoup4 in f:\\programas\\anaconda\\lib\\site-packages (from nbconvert->notebook>=4.4.1->widgetsnbextension~=3.5.0->ipywidgets<9,>=7.6.0->ipympl) (4.11.1)\n",
      "Requirement already satisfied: nbclient<0.6.0,>=0.5.0 in f:\\programas\\anaconda\\lib\\site-packages (from nbconvert->notebook>=4.4.1->widgetsnbextension~=3.5.0->ipywidgets<9,>=7.6.0->ipympl) (0.5.13)\n",
      "Requirement already satisfied: defusedxml in f:\\programas\\anaconda\\lib\\site-packages (from nbconvert->notebook>=4.4.1->widgetsnbextension~=3.5.0->ipywidgets<9,>=7.6.0->ipympl) (0.7.1)\n",
      "Requirement already satisfied: cffi>=1.0.1 in f:\\programas\\anaconda\\lib\\site-packages (from argon2-cffi-bindings->argon2-cffi->notebook>=4.4.1->widgetsnbextension~=3.5.0->ipywidgets<9,>=7.6.0->ipympl) (1.15.0)\n",
      "Requirement already satisfied: soupsieve>1.2 in f:\\programas\\anaconda\\lib\\site-packages (from beautifulsoup4->nbconvert->notebook>=4.4.1->widgetsnbextension~=3.5.0->ipywidgets<9,>=7.6.0->ipympl) (2.3.1)\n",
      "Requirement already satisfied: webencodings in f:\\programas\\anaconda\\lib\\site-packages (from bleach->nbconvert->notebook>=4.4.1->widgetsnbextension~=3.5.0->ipywidgets<9,>=7.6.0->ipympl) (0.5.1)\n",
      "Requirement already satisfied: pycparser in f:\\programas\\anaconda\\lib\\site-packages (from cffi>=1.0.1->argon2-cffi-bindings->argon2-cffi->notebook>=4.4.1->widgetsnbextension~=3.5.0->ipywidgets<9,>=7.6.0->ipympl) (2.21)\n",
      "Note: you may need to restart the kernel to use updated packages.\n"
     ]
    },
    {
     "name": "stderr",
     "output_type": "stream",
     "text": [
      "\n",
      "[notice] A new release of pip available: 22.3 -> 23.1.2\n",
      "[notice] To update, run: python.exe -m pip install --upgrade pip\n"
     ]
    }
   ],
   "source": [
    "pip install ipympl --user"
   ]
  },
  {
   "cell_type": "code",
   "execution_count": 1,
   "id": "2b1cfa21",
   "metadata": {
    "collapsed": true
   },
   "outputs": [
    {
     "name": "stderr",
     "output_type": "stream",
     "text": [
      "Enabling notebook extension jupyter-js-widgets/extension...\n",
      "      - Validating: ok\n"
     ]
    }
   ],
   "source": [
    "! jupyter nbextension enable --py --sys-prefix widgetsnbextension"
   ]
  },
  {
   "cell_type": "code",
   "execution_count": 4,
   "id": "33de37ca",
   "metadata": {
    "collapsed": true
   },
   "outputs": [
    {
     "name": "stderr",
     "output_type": "stream",
     "text": [
      "Enabling notebook extension jupyter-matplotlib/extension...\n",
      "      - Validating: ok\n"
     ]
    }
   ],
   "source": [
    "! jupyter nbextension enable ipympl --py --sys-prefix"
   ]
  },
  {
   "cell_type": "code",
   "execution_count": 1,
   "id": "bc78942d",
   "metadata": {
    "scrolled": true
   },
   "outputs": [
    {
     "ename": "ModuleNotFoundError",
     "evalue": "No module named 'matplotlib'",
     "output_type": "error",
     "traceback": [
      "\u001b[1;31m---------------------------------------------------------------------------\u001b[0m",
      "\u001b[1;31mModuleNotFoundError\u001b[0m                       Traceback (most recent call last)",
      "Cell \u001b[1;32mIn[1], line 1\u001b[0m\n\u001b[1;32m----> 1\u001b[0m get_ipython()\u001b[39m.\u001b[39;49mrun_line_magic(\u001b[39m'\u001b[39;49m\u001b[39mmatplotlib\u001b[39;49m\u001b[39m'\u001b[39;49m, \u001b[39m'\u001b[39;49m\u001b[39minline\u001b[39;49m\u001b[39m'\u001b[39;49m)\n\u001b[0;32m      3\u001b[0m \u001b[39mimport\u001b[39;00m \u001b[39mmatplotlib\u001b[39;00m\u001b[39m.\u001b[39;00m\u001b[39mpyplot\u001b[39;00m \u001b[39mas\u001b[39;00m \u001b[39mplt\u001b[39;00m\n\u001b[0;32m      4\u001b[0m \u001b[39mimport\u001b[39;00m \u001b[39mnumpy\u001b[39;00m \u001b[39mas\u001b[39;00m \u001b[39mnp\u001b[39;00m\n",
      "File \u001b[1;32m~\\AppData\\Roaming\\Python\\Python310\\site-packages\\IPython\\core\\interactiveshell.py:2369\u001b[0m, in \u001b[0;36mInteractiveShell.run_line_magic\u001b[1;34m(self, magic_name, line, _stack_depth)\u001b[0m\n\u001b[0;32m   2367\u001b[0m     kwargs[\u001b[39m'\u001b[39m\u001b[39mlocal_ns\u001b[39m\u001b[39m'\u001b[39m] \u001b[39m=\u001b[39m \u001b[39mself\u001b[39m\u001b[39m.\u001b[39mget_local_scope(stack_depth)\n\u001b[0;32m   2368\u001b[0m \u001b[39mwith\u001b[39;00m \u001b[39mself\u001b[39m\u001b[39m.\u001b[39mbuiltin_trap:\n\u001b[1;32m-> 2369\u001b[0m     result \u001b[39m=\u001b[39m fn(\u001b[39m*\u001b[39margs, \u001b[39m*\u001b[39m\u001b[39m*\u001b[39mkwargs)\n\u001b[0;32m   2371\u001b[0m \u001b[39m# The code below prevents the output from being displayed\u001b[39;00m\n\u001b[0;32m   2372\u001b[0m \u001b[39m# when using magics with decodator @output_can_be_silenced\u001b[39;00m\n\u001b[0;32m   2373\u001b[0m \u001b[39m# when the last Python token in the expression is a ';'.\u001b[39;00m\n\u001b[0;32m   2374\u001b[0m \u001b[39mif\u001b[39;00m \u001b[39mgetattr\u001b[39m(fn, magic\u001b[39m.\u001b[39mMAGIC_OUTPUT_CAN_BE_SILENCED, \u001b[39mFalse\u001b[39;00m):\n",
      "File \u001b[1;32m~\\AppData\\Roaming\\Python\\Python310\\site-packages\\IPython\\core\\magics\\pylab.py:99\u001b[0m, in \u001b[0;36mPylabMagics.matplotlib\u001b[1;34m(self, line)\u001b[0m\n\u001b[0;32m     97\u001b[0m     \u001b[39mprint\u001b[39m(\u001b[39m\"\u001b[39m\u001b[39mAvailable matplotlib backends: \u001b[39m\u001b[39m%s\u001b[39;00m\u001b[39m\"\u001b[39m \u001b[39m%\u001b[39m backends_list)\n\u001b[0;32m     98\u001b[0m \u001b[39melse\u001b[39;00m:\n\u001b[1;32m---> 99\u001b[0m     gui, backend \u001b[39m=\u001b[39m \u001b[39mself\u001b[39;49m\u001b[39m.\u001b[39;49mshell\u001b[39m.\u001b[39;49menable_matplotlib(args\u001b[39m.\u001b[39;49mgui\u001b[39m.\u001b[39;49mlower() \u001b[39mif\u001b[39;49;00m \u001b[39misinstance\u001b[39;49m(args\u001b[39m.\u001b[39;49mgui, \u001b[39mstr\u001b[39;49m) \u001b[39melse\u001b[39;49;00m args\u001b[39m.\u001b[39;49mgui)\n\u001b[0;32m    100\u001b[0m     \u001b[39mself\u001b[39m\u001b[39m.\u001b[39m_show_matplotlib_backend(args\u001b[39m.\u001b[39mgui, backend)\n",
      "File \u001b[1;32m~\\AppData\\Roaming\\Python\\Python310\\site-packages\\IPython\\core\\interactiveshell.py:3540\u001b[0m, in \u001b[0;36mInteractiveShell.enable_matplotlib\u001b[1;34m(self, gui)\u001b[0m\n\u001b[0;32m   3519\u001b[0m \u001b[39mdef\u001b[39;00m \u001b[39menable_matplotlib\u001b[39m(\u001b[39mself\u001b[39m, gui\u001b[39m=\u001b[39m\u001b[39mNone\u001b[39;00m):\n\u001b[0;32m   3520\u001b[0m \u001b[39m    \u001b[39m\u001b[39m\"\"\"Enable interactive matplotlib and inline figure support.\u001b[39;00m\n\u001b[0;32m   3521\u001b[0m \n\u001b[0;32m   3522\u001b[0m \u001b[39m    This takes the following steps:\u001b[39;00m\n\u001b[1;32m   (...)\u001b[0m\n\u001b[0;32m   3538\u001b[0m \u001b[39m        display figures inline.\u001b[39;00m\n\u001b[0;32m   3539\u001b[0m \u001b[39m    \"\"\"\u001b[39;00m\n\u001b[1;32m-> 3540\u001b[0m     \u001b[39mfrom\u001b[39;00m \u001b[39mmatplotlib_inline\u001b[39;00m\u001b[39m.\u001b[39;00m\u001b[39mbackend_inline\u001b[39;00m \u001b[39mimport\u001b[39;00m configure_inline_support\n\u001b[0;32m   3542\u001b[0m     \u001b[39mfrom\u001b[39;00m \u001b[39mIPython\u001b[39;00m\u001b[39m.\u001b[39;00m\u001b[39mcore\u001b[39;00m \u001b[39mimport\u001b[39;00m pylabtools \u001b[39mas\u001b[39;00m pt\n\u001b[0;32m   3543\u001b[0m     gui, backend \u001b[39m=\u001b[39m pt\u001b[39m.\u001b[39mfind_gui_and_backend(gui, \u001b[39mself\u001b[39m\u001b[39m.\u001b[39mpylab_gui_select)\n",
      "File \u001b[1;32m~\\AppData\\Roaming\\Python\\Python310\\site-packages\\matplotlib_inline\\__init__.py:1\u001b[0m\n\u001b[1;32m----> 1\u001b[0m \u001b[39mfrom\u001b[39;00m \u001b[39m.\u001b[39;00m \u001b[39mimport\u001b[39;00m backend_inline, config  \u001b[39m# noqa\u001b[39;00m\n\u001b[0;32m      2\u001b[0m __version__ \u001b[39m=\u001b[39m \u001b[39m\"\u001b[39m\u001b[39m0.1.6\u001b[39m\u001b[39m\"\u001b[39m  \u001b[39m# noqa\u001b[39;00m\n",
      "File \u001b[1;32m~\\AppData\\Roaming\\Python\\Python310\\site-packages\\matplotlib_inline\\backend_inline.py:6\u001b[0m\n\u001b[0;32m      1\u001b[0m \u001b[39m\"\"\"A matplotlib backend for publishing figures via display_data\"\"\"\u001b[39;00m\n\u001b[0;32m      3\u001b[0m \u001b[39m# Copyright (c) IPython Development Team.\u001b[39;00m\n\u001b[0;32m      4\u001b[0m \u001b[39m# Distributed under the terms of the BSD 3-Clause License.\u001b[39;00m\n\u001b[1;32m----> 6\u001b[0m \u001b[39mimport\u001b[39;00m \u001b[39mmatplotlib\u001b[39;00m\n\u001b[0;32m      7\u001b[0m \u001b[39mfrom\u001b[39;00m \u001b[39mmatplotlib\u001b[39;00m \u001b[39mimport\u001b[39;00m colors\n\u001b[0;32m      8\u001b[0m \u001b[39mfrom\u001b[39;00m \u001b[39mmatplotlib\u001b[39;00m\u001b[39m.\u001b[39;00m\u001b[39mbackends\u001b[39;00m \u001b[39mimport\u001b[39;00m backend_agg\n",
      "\u001b[1;31mModuleNotFoundError\u001b[0m: No module named 'matplotlib'"
     ]
    }
   ],
   "source": [
    "%matplotlib inline \n",
    "\n",
    "import matplotlib.pyplot as plt\n",
    "import numpy as np\n",
    "\n",
    "# Conectar puntos con una curva\n",
    "def linea_curva(point1, point2):\n",
    "    a = (point2[1] - point1[1])/(np.cosh(point2[0]) - np.cosh(point1[0]))\n",
    "    b = point1[1] - a*np.cosh(point1[0])\n",
    "    x = np.linspace(point1[0], point2[0], 100)\n",
    "    y = a*np.cosh(x) + b\n",
    "\n",
    "    return (x,y)\n",
    "\n",
    "\n",
    "adV = [ [0,0,0,0], \n",
    "        [1,0,0,0], \n",
    "        [1,0,0,0], \n",
    "        [1,1,0,0] ]\n",
    "\n",
    "nodes = ['c','a1','a2','a3']\n",
    "\n",
    "points = {}\n",
    "justPoints = []\n",
    "ys = 0\n",
    "xs = 0\n",
    "# Generar los puntos\n",
    "for i in range(len(nodes)):\n",
    "    points[nodes[i]] = [xs,ys]\n",
    "    justPoints.append([xs,ys])\n",
    "\n",
    "    ys+=1\n",
    "    xs+=0.8\n",
    "\n",
    "# Graficando puntos y añadiendoles etiqueta\n",
    "plt.scatter([x[0] for x in justPoints], [x[1] for x in justPoints], s=500)\n",
    "for i in range(len(nodes)):\n",
    "    plt.text(justPoints[i][0], justPoints[i][1]+0.05, nodes[i], va='bottom', ha='center')\n",
    "    \n",
    "# Graficando las conexiones entre los puntos segun la matriz de adyacencia\n",
    "vertex = []\n",
    "for i in range(len(adV)):\n",
    "    for j in range(len(adV[i])):\n",
    "        if adV[i][j]==1:\n",
    "            x,y = linea_curva(points[nodes[i]], points[nodes[j]])\n",
    "            plt.plot( x,y )\n",
    "\n",
    "# Mostrando grafica cuadrada\n",
    "plt.axis('square')\n",
    "plt.show()"
   ]
  },
  {
   "cell_type": "code",
   "execution_count": null,
   "id": "ee4fe40d",
   "metadata": {},
   "outputs": [],
   "source": []
  }
 ],
 "metadata": {
  "kernelspec": {
   "display_name": "Python 3 (ipykernel)",
   "language": "python",
   "name": "python3"
  },
  "language_info": {
   "codemirror_mode": {
    "name": "ipython",
    "version": 3
   },
   "file_extension": ".py",
   "mimetype": "text/x-python",
   "name": "python",
   "nbconvert_exporter": "python",
   "pygments_lexer": "ipython3",
   "version": "3.9.12"
  }
 },
 "nbformat": 4,
 "nbformat_minor": 5
}
